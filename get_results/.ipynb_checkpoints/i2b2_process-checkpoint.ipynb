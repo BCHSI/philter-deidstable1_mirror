{
 "cells": [
  {
   "cell_type": "code",
   "execution_count": null,
   "metadata": {},
   "outputs": [],
   "source": [
    "# Run downloaded and installed philter script on i2b2 dataset\n",
    "!python3 ../philter_2.0.py -i ../data/i2b2_notes -o ../data/i2b2_results -m False"
   ]
  },
  {
   "cell_type": "code",
   "execution_count": 6,
   "metadata": {},
   "outputs": [
    {
     "name": "stdout",
     "output_type": "stream",
     "text": [
      "Traceback (most recent call last):\r\n",
      "  File \"eval-i2b2.py\", line 258, in <module>\r\n",
      "    main()\r\n",
      "  File \"eval-i2b2.py\", line 162, in main\r\n",
      "    with open(args.annotation+'anno.dict', 'rb') as fin:\r\n",
      "FileNotFoundError: [Errno 2] No such file or directory: '../generate_dataset/testing-PHI-Gold-fixed/anno.dict'\r\n"
     ]
    }
   ],
   "source": [
    "# Run evaluation script on de-identified i2b2 notes\n",
    "!python3 eval-i2b2.py -p ../data/i2b2_results -a ../generate_dataset/testing-PHI-Gold-fixed/ -o ../data/i2b2_eval\n",
    "\n"
   ]
  },
  {
   "cell_type": "code",
   "execution_count": null,
   "metadata": {},
   "outputs": [],
   "source": [
    "# Run whitelist-only philter on i2b2 dataset\n",
    "!python3 ../philter_whitelist.py -i ../data/i2b2_notes -o ../data/i2b2_whitelist_results/ -r -p 32\n",
    "\n"
   ]
  },
  {
   "cell_type": "code",
   "execution_count": null,
   "metadata": {},
   "outputs": [],
   "source": [
    "# Run evaluation script on whitelist-only de-identified i2b2 notes\n",
    "!python3 ../eval-i2b2.py -p ../data/i2b2_whitelists_results -a ../generate_dataset/testing-PHI-Gold-fixed -o ../data/i2b2_whitelist_eval\n",
    "\n"
   ]
  },
  {
   "cell_type": "code",
   "execution_count": null,
   "metadata": {},
   "outputs": [],
   "source": [
    "# Run whitelist+regex-only philter on i2b2 dataset\n",
    "!python3 ../philter_whitelist_regex.py -i ../data/i2b2_notes -o ../data/i2b2_whitelist_regex_results/ -r -p 32\n",
    "\n"
   ]
  },
  {
   "cell_type": "code",
   "execution_count": null,
   "metadata": {},
   "outputs": [],
   "source": [
    "# Run evaluation script on whitelist+regex-only de-identified i2b2 notes\n",
    "!python3 ../eval-i2b2.py -p ../data/i2b2_whitelist_regex_results -a ../generate_dataset/testing-PHI-Gold-fixed -o ../data/i2b2_whitelist_regex_eval\n",
    "\n"
   ]
  }
 ],
 "metadata": {
  "kernelspec": {
   "display_name": "Python 3",
   "language": "python",
   "name": "python3"
  },
  "language_info": {
   "codemirror_mode": {
    "name": "ipython",
    "version": 3
   },
   "file_extension": ".py",
   "mimetype": "text/x-python",
   "name": "python",
   "nbconvert_exporter": "python",
   "pygments_lexer": "ipython3",
   "version": "3.6.4"
  }
 },
 "nbformat": 4,
 "nbformat_minor": 2
}
