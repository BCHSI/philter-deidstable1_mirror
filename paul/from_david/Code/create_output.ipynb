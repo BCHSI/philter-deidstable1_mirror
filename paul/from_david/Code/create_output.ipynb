{
 "cells": [
  {
   "cell_type": "markdown",
   "metadata": {},
   "source": [
    "# Purpose\n",
    "\n",
    "This file will hold the functions responsible for creating the text input and XML check files needed to validate the Philter algorithm's performance. "
   ]
  },
  {
   "cell_type": "markdown",
   "metadata": {},
   "source": [
    "# Importing necessary libaries"
   ]
  },
  {
   "cell_type": "markdown",
   "metadata": {},
   "source": [
    "## Defining a function that creates the text input file\n",
    "\n",
    "This is the file with the raw \"clinical note\" (quotes due to the fact that the PHIs will be fake). The file will be given to Philter as input corresponding to the labels outlined in the XML check file when validating Philter's performance."
   ]
  },
  {
   "cell_type": "code",
   "execution_count": 6,
   "metadata": {},
   "outputs": [],
   "source": [
    "def create_text(text, file_ID):\n",
    "    \n",
    "    filepath = \"./data/faked_notes/philter_files/without_tags/\" + str(file_ID) + \".txt\"\n",
    "    with open(filepath, \"w\") as file:\n",
    "        file.write(text)\n",
    "        file.close"
   ]
  },
  {
   "cell_type": "markdown",
   "metadata": {},
   "source": [
    "## Defining a function that creates the XML check file\n",
    "\n",
    "This is the file containing all the tags (hence the XML format), and the generated XML file will be used as \"labels\" to validate the Philter algorithm. The only thing that sets this apart from the cells generating the raw text file is that the tags need to be added for this file. The code for this was adapted from a StackAbuse guide (seems like it's meant to be some sort of StackOverflow clone, but with articles rather than forum threads): https://stackabuse.com/reading-and-writing-xml-files-in-python/."
   ]
  },
  {
   "cell_type": "code",
   "execution_count": 29,
   "metadata": {},
   "outputs": [],
   "source": [
    "def create_XML(text, tags_list, file_ID, write=False):\n",
    "    '''\n",
    "    Currently, this is written to generate files in the same format as the XML files given in the public GitHub version of Philter.\n",
    "    Those files seem to be formatted in the following way:\n",
    "    \n",
    "    <?xml version='1.0' encoding='utf8'?> #this seems to be a declaration of the XML version and encoding of the file\n",
    "    <deIdi2b2> #this seems to symbolize \"de-identified i2b2\" (i2b2 is likely the same i2b2 dataset referenced in the paper written on Philter)\n",
    "        <TEXT>\n",
    "            clinical note text here...\n",
    "        </TEXT>\n",
    "        <TAGS>\n",
    "            <DATE TYPE=\"DATE\", comment=\"\" end=\"string_end_index\" id=\"P0\" (0 can be any number and seems to just increment by 1 each time) start=\"string_start_index\" text=\"string_text\" />\n",
    "            pretty much the same thing for names, but with a different tag type (NAME) and PHI type (\"PATIENT\" or \"DOCTOR\")\n",
    "        </TAGS>\n",
    "    </deIdi2b2>\n",
    "    '''\n",
    "    #header, container, and text portions of the XML file\n",
    "    string = \"<?xml version='1.0' encoding='utf8'?>\\n<deIdMIMIC>\\n<TEXT> \\n\" + text + \"\\n</TEXT>\\n<TAGS>\\n\"\n",
    "    \n",
    "    ID_number = 0\n",
    "    \n",
    "    #creating the tags for the XML file\n",
    "    \n",
    "    for value in tags_list:\n",
    "        \n",
    "        #this structure is drawn from an example i2b2 file in the public GitHub site for Philter\n",
    "        string += \"<\" + value[\"type\"][0].upper() + \" TYPE=\\\"\" + value[\"type\"][0].upper() + \"\\\" comment= \\\"\\\" end=\\\"\" + str(value[\"end\"]) + \"\\\" id= \\\"P\" + str(ID_number) + \"\\\" start=\\\"\" + str(value[\"start\"]) + \"\\\" text=\\\"\" + str(value[\"text\"]) + \"\\\" /> \\n\"\n",
    "        \n",
    "        ID_number += 1\n",
    "    \n",
    "    string += \"</TAGS>\\n</deIdMIMIC>\"\n",
    "    \n",
    "    if write:\n",
    "        #write the formatted file_data to the file_ID.xml file\n",
    "        filepath = \"./data/faked_notes/philter_files/with_tags/\" + str(file_ID) + \".xml\"\n",
    "        with open(filepath, \"w\") as file:\n",
    "            file.write(string)\n",
    "    \n",
    "    return string"
   ]
  },
  {
   "cell_type": "markdown",
   "metadata": {},
   "source": [
    "## Defining a function that creates a csv file\n",
    "\n",
    "While creating individual XML and txt files works in small batches, file directories do have rough limits on how many files can be put within them. As such, particularly for things such as the entire MIMIC-III dataset (which has ~2 million clinical notes), a more compact structure such as a single .csv file will be extremely useful. Creating such a .csv file is what this function does."
   ]
  },
  {
   "cell_type": "code",
   "execution_count": 1,
   "metadata": {},
   "outputs": [],
   "source": [
    "def create_csv(text, XML, filename, previous_data, filepath=\"./data/faked_notes/\" , write=False):\n",
    "\n",
    "    previous_data = previous_data.append(pd.DataFrame([[text, XML]], columns=[\"altered_texts\", \"XMLs\"]))\n",
    "        \n",
    "    if write:\n",
    "        previous_data = previous_data.dropna()\n",
    "        previous_data.to_csv(filepath+str(filename)+\".csv\", header=[\"altered_texts\", \"XMLs\"], index=False)\n",
    "\n",
    "    return previous_data"
   ]
  }
 ],
 "metadata": {
  "kernelspec": {
   "display_name": "Python 3",
   "language": "python",
   "name": "python3"
  },
  "language_info": {
   "codemirror_mode": {
    "name": "ipython",
    "version": 3
   },
   "file_extension": ".py",
   "mimetype": "text/x-python",
   "name": "python",
   "nbconvert_exporter": "python",
   "pygments_lexer": "ipython3",
   "version": "3.8.2"
  }
 },
 "nbformat": 4,
 "nbformat_minor": 4
}
