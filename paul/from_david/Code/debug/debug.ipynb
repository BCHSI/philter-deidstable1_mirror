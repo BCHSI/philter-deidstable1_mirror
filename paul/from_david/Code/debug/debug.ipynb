{
 "cells": [
  {
   "cell_type": "markdown",
   "metadata": {},
   "source": [
    "## Import necessary modules"
   ]
  },
  {
   "cell_type": "code",
   "execution_count": 7,
   "metadata": {},
   "outputs": [],
   "source": [
    "import json\n",
    "from spacy import displacy\n",
    "from IPython.core.display import display, HTML\n",
    "import os\n",
    "import webbrowser"
   ]
  },
  {
   "cell_type": "code",
   "execution_count": 8,
   "metadata": {},
   "outputs": [],
   "source": [
    "def read_json(filename):\n",
    "    filepath = \"./debug/\" + filename + \".json\"\n",
    "    \n",
    "    with open(filepath, 'r') as file:\n",
    "        contents = json.load(file)\n",
    "    \n",
    "    return contents\n",
    "\n",
    "def write_json(filename, content):\n",
    "    filepath = \"./debug/\" + filename + \".json\"\n",
    "    \n",
    "    with open(filepath, 'w') as file:\n",
    "        json.dump(content, file)\n",
    "        \n",
    "write_json(\"unrecognized\", [])"
   ]
  },
  {
   "cell_type": "code",
   "execution_count": 9,
   "metadata": {},
   "outputs": [],
   "source": [
    "def create_debug(text_ID, text, text_PHIs, unrecognized, altered_text, PHI_to_tag):\n",
    "    \n",
    "    #create a list of all unrecognized PHI tags, stored in a json file\n",
    "    if read_json(\"unrecognized\") == []:\n",
    "            write_json(\"unrecognized\", unrecognized)\n",
    "    else:\n",
    "        contents = read_json(\"unrecognized\")\n",
    "        contents.append(unrecognized)\n",
    "        write_json(\"unrecognized\", contents)\n",
    "    \n",
    "    #setting custom colors for each type so that it is easier to visualize (using color hex codes)\n",
    "    displacy_colors = read_json(\"displacy_colors\")\n",
    "    \n",
    "    #create annotated HTML versions of the original texts, color coded by PHI type, and save them to a json file\n",
    "    data = [{\n",
    "        \"text\": text,\n",
    "        \"ents\": [],\n",
    "        \"title\": \"Text \" + str(text_ID) + \" (Original)\"\n",
    "    }]\n",
    "    \n",
    "    for PHI in text_PHIs:\n",
    "        data[0][\"ents\"].append({\n",
    "            \"start\": PHI[\"location\"][0],\n",
    "            \"end\": PHI[\"location\"][1],\n",
    "            \"label\": PHI[\"type\"]\n",
    "        })\n",
    "    \n",
    "    original_html = displacy.render(data, style=\"ent\", jupyter=False, manual=True, options={\"colors\":displacy_colors})\n",
    "    \n",
    "    if read_json(\"original_htmls\") == []:\n",
    "        write_json(\"original_htmls\", [original_html])\n",
    "    else:\n",
    "        contents = read_json(\"original_htmls\")\n",
    "        contents.append(original_html)\n",
    "        write_json(\"original_htmls\", contents)\n",
    "    \n",
    "    #create annotated HTML versions of the altered texts, color coded by PHI type, and save them to a json file\n",
    "    data = [{\n",
    "        \"text\": altered_text,\n",
    "        \"ents\": [],\n",
    "        \"title\": \"Text \" + str(text_ID) + \" (Altered)\"\n",
    "    }]\n",
    "    \n",
    "    for PHI in PHI_to_tag:\n",
    "        data[0][\"ents\"].append({\n",
    "            \"start\": PHI[\"start\"],\n",
    "            \"end\": PHI[\"end\"],\n",
    "            \"label\": PHI[\"type\"][0]\n",
    "        })\n",
    "    \n",
    "    altered_html = displacy.render(data, style=\"ent\", jupyter=False, manual=True, options={\"colors\":displacy_colors})\n",
    "    \n",
    "    if read_json(\"altered_htmls\") == []:\n",
    "        write_json(\"altered_htmls\", [altered_html])\n",
    "    else:\n",
    "        contents = read_json(\"altered_htmls\")\n",
    "        contents.append(altered_html)\n",
    "        write_json(\"altered_htmls\", contents)\n",
    "        \n",
    "    return None"
   ]
  },
  {
   "cell_type": "code",
   "execution_count": 10,
   "metadata": {},
   "outputs": [],
   "source": [
    "def render_displacy_html(html_ID, html_type, jupyter_render=False):\n",
    "    html_list = read_json(html_type + \"_htmls\")\n",
    "    html_to_export = html_list[html_ID]\n",
    "    \n",
    "    if jupyter_render:\n",
    "        display(HTML(html_to_export))\n",
    "        pass\n",
    "    else:\n",
    "        #save the html to a file\n",
    "        with open(\"./debug/debug.html\", 'w') as file:\n",
    "            file.write(html_to_export)\n",
    "            file.close()\n",
    "        \n",
    "        #find the absolute filepath of the created file\n",
    "        full_filepath = os.path.abspath('./debug/debug.html')\n",
    "        \n",
    "        #open the file in the default web browser\n",
    "        webbrowser.open(full_filepath, new=2) #new=2 tells the webbrowser library to open the file in a new tab"
   ]
  },
  {
   "cell_type": "code",
   "execution_count": 11,
   "metadata": {},
   "outputs": [],
   "source": [
    "def reset_jsons():\n",
    "    write_json(\"unrecognized\", [])\n",
    "    write_json(\"original_htmls\", [])\n",
    "    write_json(\"altered_htmls\", [])"
   ]
  }
 ],
 "metadata": {
  "kernelspec": {
   "display_name": "Python 3",
   "language": "python",
   "name": "python3"
  },
  "language_info": {
   "codemirror_mode": {
    "name": "ipython",
    "version": 3
   },
   "file_extension": ".py",
   "mimetype": "text/x-python",
   "name": "python",
   "nbconvert_exporter": "python",
   "pygments_lexer": "ipython3",
   "version": "3.7.7"
  }
 },
 "nbformat": 4,
 "nbformat_minor": 4
}
