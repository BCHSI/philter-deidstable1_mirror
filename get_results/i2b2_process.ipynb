{
 "cells": [
  {
   "cell_type": "code",
   "execution_count": null,
   "metadata": {},
   "outputs": [
    {
     "name": "stdout",
     "output_type": "stream",
     "text": [
      "input folder: ../data/i2b2_notes\n",
      "recursive?: False\n",
      "output folder: ../data/i2b2_results\n",
      "Using whitelist: ../whitelist.pkl\n",
      "length of whitelist: 290052\n",
      "phi_reduced file's name would be: *_phi_reduced.txt\n",
      "run in 1 process(es)\n",
      "Multithreaded mode OFF\n",
      "137-03.txt\n",
      "1 ../data/i2b2_notes/137-03.txt --- 12.805783987045288 seconds ---\n",
      "380-03.txt\n",
      "1 ../data/i2b2_notes/380-03.txt --- 12.360143661499023 seconds ---\n",
      "162-02.txt\n",
      "1 ../data/i2b2_notes/162-02.txt --- 2.8068201541900635 seconds ---\n",
      "193-04.txt\n",
      "1 ../data/i2b2_notes/193-04.txt --- 5.1630859375 seconds ---\n",
      "371-05.txt\n",
      "1 ../data/i2b2_notes/371-05.txt --- 12.551989555358887 seconds ---\n",
      "349-01.txt\n",
      "1 ../data/i2b2_notes/349-01.txt --- 15.140445947647095 seconds ---\n",
      "347-04.txt\n",
      "bifurcation...no\n",
      "1 ../data/i2b2_notes/347-04.txt --- 12.98033094406128 seconds ---\n",
      "234-01.txt\n",
      "1 ../data/i2b2_notes/234-01.txt --- 9.83243203163147 seconds ---\n",
      "345-01.txt\n",
      "1 ../data/i2b2_notes/345-01.txt --- 7.198284864425659 seconds ---\n",
      "236-04.txt\n",
      "1 ../data/i2b2_notes/236-04.txt --- 6.254894018173218 seconds ---\n",
      "238-01.txt\n",
      "1 ../data/i2b2_notes/238-01.txt --- 8.558586835861206 seconds ---\n",
      "263-05.txt\n",
      "1 ../data/i2b2_notes/263-05.txt --- 2.4051151275634766 seconds ---\n",
      "113-02.txt\n",
      "1 ../data/i2b2_notes/113-02.txt --- 11.108376026153564 seconds ---\n",
      "191-01.txt\n",
      "1 ../data/i2b2_notes/191-01.txt --- 10.279214859008789 seconds ---\n",
      "373-01.txt\n",
      "1 ../data/i2b2_notes/373-01.txt --- 8.048745155334473 seconds ---\n",
      "113-03.txt\n",
      "1 ../data/i2b2_notes/113-03.txt --- 9.773679971694946 seconds ---\n",
      "200-04.txt\n",
      "4.0x3.5x0.8\n",
      "1 ../data/i2b2_notes/200-04.txt --- 10.794010162353516 seconds ---\n",
      "263-04.txt\n",
      "1 ../data/i2b2_notes/263-04.txt --- 5.129970073699951 seconds ---\n",
      "236-05.txt\n",
      "1 ../data/i2b2_notes/236-05.txt --- 6.960491180419922 seconds ---\n",
      "210-01.txt\n"
     ]
    }
   ],
   "source": [
    "# Run downloaded and installed philter script on i2b2 dataset\n",
    "!python3 ../philter_2.0.py -i ../data/i2b2_notes -o ../data/i2b2_results -m False"
   ]
  },
  {
   "cell_type": "code",
   "execution_count": 6,
   "metadata": {},
   "outputs": [
    {
     "name": "stdout",
     "output_type": "stream",
     "text": [
      "Traceback (most recent call last):\r\n",
      "  File \"eval-i2b2.py\", line 258, in <module>\r\n",
      "    main()\r\n",
      "  File \"eval-i2b2.py\", line 162, in main\r\n",
      "    with open(args.annotation+'anno.dict', 'rb') as fin:\r\n",
      "FileNotFoundError: [Errno 2] No such file or directory: '../generate_dataset/testing-PHI-Gold-fixed/anno.dict'\r\n"
     ]
    }
   ],
   "source": [
    "# Run evaluation script on de-identified i2b2 notes\n",
    "!python3 eval-i2b2.py -p ../data/i2b2_results -a ../generate_dataset/testing-PHI-Gold-fixed/ -o ../data/i2b2_eval\n",
    "\n"
   ]
  },
  {
   "cell_type": "code",
   "execution_count": null,
   "metadata": {},
   "outputs": [],
   "source": [
    "# Run whitelist-only philter on i2b2 dataset\n",
    "!python3 ../philter_whitelist.py -i ../data/i2b2_notes -o ../data/i2b2_whitelist_results/ -r -p 32\n",
    "\n"
   ]
  },
  {
   "cell_type": "code",
   "execution_count": null,
   "metadata": {},
   "outputs": [],
   "source": [
    "# Run evaluation script on whitelist-only de-identified i2b2 notes\n",
    "!python3 ../eval-i2b2.py -p ../data/i2b2_whitelists_results -a ../generate_dataset/testing-PHI-Gold-fixed -o ../data/i2b2_whitelist_eval\n",
    "\n"
   ]
  },
  {
   "cell_type": "code",
   "execution_count": null,
   "metadata": {},
   "outputs": [],
   "source": [
    "# Run whitelist+regex-only philter on i2b2 dataset\n",
    "!python3 ../philter_whitelist_regex.py -i ../data/i2b2_notes -o ../data/i2b2_whitelist_regex_results/ -r -p 32\n",
    "\n"
   ]
  },
  {
   "cell_type": "code",
   "execution_count": null,
   "metadata": {},
   "outputs": [],
   "source": [
    "# Run evaluation script on whitelist+regex-only de-identified i2b2 notes\n",
    "!python3 ../eval-i2b2.py -p ../data/i2b2_whitelist_regex_results -a ../generate_dataset/testing-PHI-Gold-fixed -o ../data/i2b2_whitelist_regex_eval\n",
    "\n"
   ]
  }
 ],
 "metadata": {
  "kernelspec": {
   "display_name": "Python 3",
   "language": "python",
   "name": "python3"
  },
  "language_info": {
   "codemirror_mode": {
    "name": "ipython",
    "version": 3
   },
   "file_extension": ".py",
   "mimetype": "text/x-python",
   "name": "python",
   "nbconvert_exporter": "python",
   "pygments_lexer": "ipython3",
   "version": "3.6.4"
  }
 },
 "nbformat": 4,
 "nbformat_minor": 2
}
