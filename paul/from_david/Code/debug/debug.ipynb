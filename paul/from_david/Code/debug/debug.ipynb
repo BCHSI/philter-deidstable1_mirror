{
 "cells": ***REMOVED***
  {
   "cell_type": "markdown",
   "metadata": {},
   "source": ***REMOVED***
    "## Import necessary modules"
   ***REMOVED***
  },
  {
   "cell_type": "code",
   "execution_count": 7,
   "metadata": {},
   "outputs": ***REMOVED******REMOVED***,
   "source": ***REMOVED***
    "import json\n",
    "from spacy import displacy\n",
    "from IPython.core.display import display, HTML\n",
    "import os\n",
    "import webbrowser"
   ***REMOVED***
  },
  {
   "cell_type": "code",
   "execution_count": 8,
   "metadata": {},
   "outputs": ***REMOVED******REMOVED***,
   "source": ***REMOVED***
    "def read_json(filename):\n",
    "    filepath = \"./debug/\" + filename + \".json\"\n",
    "    \n",
    "    with open(filepath, 'r') as file:\n",
    "        contents = json.load(file)\n",
    "    \n",
    "    return contents\n",
    "\n",
    "def write_json(filename, content):\n",
    "    filepath = \"./debug/\" + filename + \".json\"\n",
    "    \n",
    "    with open(filepath, 'w') as file:\n",
    "        json.dump(content, file)\n",
    "        \n",
    "write_json(\"unrecognized\", ***REMOVED******REMOVED***)"
   ***REMOVED***
  },
  {
   "cell_type": "code",
   "execution_count": 9,
   "metadata": {},
   "outputs": ***REMOVED******REMOVED***,
   "source": ***REMOVED***
    "def create_debug(text_ID, text, text_PHIs, unrecognized, altered_text, PHI_to_tag):\n",
    "    \n",
    "    #create a list of all unrecognized PHI tags, stored in a json file\n",
    "    if read_json(\"unrecognized\") == ***REMOVED******REMOVED***:\n",
    "            write_json(\"unrecognized\", unrecognized)\n",
    "    else:\n",
    "        contents = read_json(\"unrecognized\")\n",
    "        contents.append(unrecognized)\n",
    "        write_json(\"unrecognized\", contents)\n",
    "    \n",
    "    #setting custom colors for each type so that it is easier to visualize (using color hex codes)\n",
    "    displacy_colors = read_json(\"displacy_colors\")\n",
    "    \n",
    "    #create annotated HTML versions of the original texts, color coded by PHI type, and save them to a json file\n",
    "    data = ***REMOVED***{\n",
    "        \"text\": text,\n",
    "        \"ents\": ***REMOVED******REMOVED***,\n",
    "        \"title\": \"Text \" + str(text_ID) + \" (Original)\"\n",
    "    }***REMOVED***\n",
    "    \n",
    "    for PHI in text_PHIs:\n",
    "        data***REMOVED***0***REMOVED******REMOVED***\"ents\"***REMOVED***.append({\n",
    "            \"start\": PHI***REMOVED***\"location\"***REMOVED******REMOVED***0***REMOVED***,\n",
    "            \"end\": PHI***REMOVED***\"location\"***REMOVED******REMOVED***1***REMOVED***,\n",
    "            \"label\": PHI***REMOVED***\"type\"***REMOVED***\n",
    "        })\n",
    "    \n",
    "    original_html = displacy.render(data, style=\"ent\", jupyter=False, manual=True, options={\"colors\":displacy_colors})\n",
    "    \n",
    "    if read_json(\"original_htmls\") == ***REMOVED******REMOVED***:\n",
    "        write_json(\"original_htmls\", ***REMOVED***original_html***REMOVED***)\n",
    "    else:\n",
    "        contents = read_json(\"original_htmls\")\n",
    "        contents.append(original_html)\n",
    "        write_json(\"original_htmls\", contents)\n",
    "    \n",
    "    #create annotated HTML versions of the altered texts, color coded by PHI type, and save them to a json file\n",
    "    data = ***REMOVED***{\n",
    "        \"text\": altered_text,\n",
    "        \"ents\": ***REMOVED******REMOVED***,\n",
    "        \"title\": \"Text \" + str(text_ID) + \" (Altered)\"\n",
    "    }***REMOVED***\n",
    "    \n",
    "    for PHI in PHI_to_tag:\n",
    "        data***REMOVED***0***REMOVED******REMOVED***\"ents\"***REMOVED***.append({\n",
    "            \"start\": PHI***REMOVED***\"start\"***REMOVED***,\n",
    "            \"end\": PHI***REMOVED***\"end\"***REMOVED***,\n",
    "            \"label\": PHI***REMOVED***\"type\"***REMOVED******REMOVED***0***REMOVED***\n",
    "        })\n",
    "    \n",
    "    altered_html = displacy.render(data, style=\"ent\", jupyter=False, manual=True, options={\"colors\":displacy_colors})\n",
    "    \n",
    "    if read_json(\"altered_htmls\") == ***REMOVED******REMOVED***:\n",
    "        write_json(\"altered_htmls\", ***REMOVED***altered_html***REMOVED***)\n",
    "    else:\n",
    "        contents = read_json(\"altered_htmls\")\n",
    "        contents.append(altered_html)\n",
    "        write_json(\"altered_htmls\", contents)\n",
    "        \n",
    "    return None"
   ***REMOVED***
  },
  {
   "cell_type": "code",
   "execution_count": 10,
   "metadata": {},
   "outputs": ***REMOVED******REMOVED***,
   "source": ***REMOVED***
    "def render_displacy_html(html_ID, html_type, jupyter_render=False):\n",
    "    html_list = read_json(html_type + \"_htmls\")\n",
    "    html_to_export = html_list***REMOVED***html_ID***REMOVED***\n",
    "    \n",
    "    if jupyter_render:\n",
    "        display(HTML(html_to_export))\n",
    "        pass\n",
    "    else:\n",
    "        #save the html to a file\n",
    "        with open(\"./debug/debug.html\", 'w') as file:\n",
    "            file.write(html_to_export)\n",
    "            file.close()\n",
    "        \n",
    "        #find the absolute filepath of the created file\n",
    "        full_filepath = os.path.abspath('./debug/debug.html')\n",
    "        \n",
    "        #open the file in the default web browser\n",
    "        webbrowser.open(full_filepath, new=2) #new=2 tells the webbrowser library to open the file in a new tab"
   ***REMOVED***
  },
  {
   "cell_type": "code",
   "execution_count": 11,
   "metadata": {},
   "outputs": ***REMOVED******REMOVED***,
   "source": ***REMOVED***
    "def reset_jsons():\n",
    "    write_json(\"unrecognized\", ***REMOVED******REMOVED***)\n",
    "    write_json(\"original_htmls\", ***REMOVED******REMOVED***)\n",
    "    write_json(\"altered_htmls\", ***REMOVED******REMOVED***)"
   ***REMOVED***
  }
 ***REMOVED***,
 "metadata": {
  "kernelspec": {
   "display_name": "Python 3",
   "language": "python",
   "name": "python3"
  },
  "language_info": {
   "codemirror_mode": {
    "name": "ipython",
    "version": 3
   },
   "file_extension": ".py",
   "mimetype": "text/x-python",
   "name": "python",
   "nbconvert_exporter": "python",
   "pygments_lexer": "ipython3",
   "version": "3.7.7"
  }
 },
 "nbformat": 4,
 "nbformat_minor": 4
}
