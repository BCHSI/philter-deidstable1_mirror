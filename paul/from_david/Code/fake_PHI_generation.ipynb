{
 "cells": ***REMOVED***
  {
   "cell_type": "markdown",
   "metadata": {},
   "source": ***REMOVED***
    "# Purpose\n",
    "\n",
    "The point of this file is to define functions for generating fake PHIs for use in the main.ipynb file. Nothing should be executed here; all of the functions will be executed in the main file. The reason I am making this a seperate file from the main one is because it makes this a bit clearer and creates seperation."
   ***REMOVED***
  },
  {
   "cell_type": "markdown",
   "metadata": {},
   "source": ***REMOVED***
    "# Importing necessray libaries"
   ***REMOVED***
  },
  {
   "cell_type": "code",
   "execution_count": 2,
   "metadata": {},
   "outputs": ***REMOVED******REMOVED***,
   "source": ***REMOVED***
    "import pandas as pd #for handling datasets\n",
    "import numpy as np #for selecting random items from lists\n",
    "import random #for generating random numbers of any length"
   ***REMOVED***
  },
  {
   "cell_type": "markdown",
   "metadata": {},
   "source": ***REMOVED***
    "# Loading in necessary data"
   ***REMOVED***
  },
  {
   "cell_type": "code",
   "execution_count": 3,
   "metadata": {},
   "outputs": ***REMOVED******REMOVED***,
   "source": ***REMOVED***
    "def generate_probabilities(frequencies):\n",
    "    \n",
    "    #find total number of entries within list frequencies\n",
    "    total_entries = 0\n",
    "    for frequency in frequencies:\n",
    "        total_entries += frequency\n",
    "    \n",
    "    #find probability of each entry based on frequency and total_entries\n",
    "    probabilities = ***REMOVED******REMOVED***\n",
    "    \n",
    "    for frequency in frequencies:\n",
    "        probability = frequency/total_entries\n",
    "        probabilities.append(probability)\n",
    "    \n",
    "    return probabilities"
   ***REMOVED***
  },
  {
   "cell_type": "markdown",
   "metadata": {},
   "source": ***REMOVED***
    "### First name data\n",
    "\n",
    "Here, I'm drawing the fake names from the Social Security Administration's listings of baby names in the U.S. It seems like a new list is released every 2 years (with only the baby names from that year, so all the names of babies in 2018 are realeased in 2020). Since the goal of this generator is to create realistic sounding names, the fact that I am drawing from a list of baby (not adult) names should not be a problem. \n",
    "\n",
    "I found the 2018 list on this website (it seems like this is updated, so you can access it later to change the list to something more recent): \n",
    "https://www.ssa.gov/oact/babynames/limits.html\n",
    "\n",
    "The Social Security list is in the format of a text file, so significant processing must be conducted on it first. In order to make this list updateable in the future, I'm going to have the function load in the list from the directory data. If you would like to update the generator with a new list, delete the old one, rename the new text file to \"ssa_first_names.txt\" (ssa stands for Social Security Administration), and then move the new text file to the data directory.\n",
    "\n",
    "Although the list given by the Social Security Administration is in the .txt file format, looking at the contents reveal that it is actually a .csv file. It can thus be loaded normally (as if it were a .csv file) using Pandas."
   ***REMOVED***
  },
  {
   "cell_type": "code",
   "execution_count": 4,
   "metadata": {},
   "outputs": ***REMOVED***
    {
     "name": "stdout",
     "output_type": "stream",
     "text": ***REMOVED***
      "              0  1      2\n",
      "0          Emma  F  18688\n",
      "1        Olivia  F  17921\n",
      "2           Ava  F  14924\n",
      "3      Isabella  F  14464\n",
      "4        Sophia  F  13928\n",
      "...         ... ..    ...\n",
      "18024   Zymirah  F      5\n",
      "18025     Zynah  F      5\n",
      "18026   Zyniyah  F      5\n",
      "18027    Zynlee  F      5\n",
      "18028     Zyona  F      5\n",
      "\n",
      "***REMOVED***18029 rows x 3 columns***REMOVED***\n"
     ***REMOVED***
    }
   ***REMOVED***,
   "source": ***REMOVED***
    "def load_first_names():    \n",
    "    #loading in the names from ssa_first_names.txt (since I'm not working with this dataframe for much, I'm not going to bother renaming the columns)\n",
    "    loaded_data = pd.read_csv(\"./data/generator_data/ssa_first_names.txt\", sep=\",\", header=None)\n",
    "    \n",
    "    first_names_per_gender = 100\n",
    "    \n",
    "    processed_name_data = ***REMOVED******REMOVED***\n",
    "    \n",
    "    for i in range(0,2):\n",
    "        if i == 0:\n",
    "            #in order to remove less common names to make the names seem more realistic, I am restricting the names to the first 100 for each gender\n",
    "            name_data = loaded_data***REMOVED******REMOVED***(x == \"F\") for x in loaded_data***REMOVED***1***REMOVED******REMOVED******REMOVED*** #find all female names\n",
    "            print(name_data)\n",
    "            name_data = name_data.truncate(after=first_names_per_gender-1) #delete all rows after index 99, which is the 100th row\n",
    "        else:\n",
    "            name_data = loaded_data***REMOVED******REMOVED***(x == \"M\") for x in loaded_data***REMOVED***1***REMOVED******REMOVED******REMOVED*** #find all male names\n",
    "            name_data = name_data.reset_index(drop=True) #this resets the indicies (otherwise all of them would be well over 100, because the male names come after the female ones and pandas doesn't do this automatically)\n",
    "            name_data = name_data.truncate(after=first_names_per_gender) #delete all rows after index 99, which is the 100th row    \n",
    "    \n",
    "        #creating a list of just the names (i.e. not including the frequency)\n",
    "        names = ***REMOVED******REMOVED***\n",
    "        for name in name_data***REMOVED***0***REMOVED***:\n",
    "            names.append(name)\n",
    "\n",
    "        totals = ***REMOVED******REMOVED***\n",
    "        for name_total in name_data***REMOVED***2***REMOVED***:\n",
    "            totals.append(name_total)\n",
    "        \n",
    "        \n",
    "        processed_name_data.append(***REMOVED***names, totals***REMOVED***)\n",
    "    \n",
    "    return processed_name_data\n",
    "    \n",
    "first_name_data = load_first_names() #always needs to be done, but only needs to be done once for each run of this file"
   ***REMOVED***
  },
  {
   "cell_type": "markdown",
   "metadata": {},
   "source": ***REMOVED***
    "### Last name data\n",
    "\n",
    "Here, I'm drawing the fake names from the U.S. Census Bureau's 2010 data of the first 1000 most common surnames in the U.S. I found this data here: https://www.census.gov/topics/population/genealogy/data/2010_surnames.html, and there seem to be similar links to the 2000 and 1990 version, which I take to mean that this link (or at least the ones similar to it) will be updated. \n",
    "\n",
    "Just like with the first names taken from the Social Security Administration's data, I've designed my code to work simply by drawing data from an excel file (since that is the format the Census Bureau has released their data in). If you would like to update the generator with a new list, delete the old one, rename the new text file to \"uscb_last_names\" (uscb stands for United States Census Bureau), and then move the new excel file to the data directory (just like with the ssa_first_names.txt file).\n",
    "\n",
    "Although the list given by the census is in Excel format, we can import it quite easily using the Pandas function read_excel(). Unlike with the first names list (which listed every first name with more than 5 occurances), the first 1000 last names should all be reasonably recognizable and thus seem realistic. I therefore will not be truncating the list of last names like I did with the first names.\n",
    "\n",
    "This requires the installation of the 'xlrd' dependency using pip (or some other package installer), though the error produced when xlrd is not installed claims that the dependency is \"optional\" (apparently it isn't)."
   ***REMOVED***
  },
  {
   "cell_type": "code",
   "execution_count": 4,
   "metadata": {},
   "outputs": ***REMOVED******REMOVED***,
   "source": ***REMOVED***
    "def load_last_names():    \n",
    "    #loading in the names from uscb_last_names.txt - the extra parameters just ignore the rest of the data that we don't want\n",
    "    loaded_data = pd.read_excel(\"./data/generator_data/uscb_last_names.xlsx\", skiprows=***REMOVED***0,1***REMOVED***, skipfooter=3, usecols=***REMOVED***0,2***REMOVED***)\n",
    "\n",
    "    names = ***REMOVED******REMOVED***\n",
    "    for name in loaded_data***REMOVED***\"SURNAME\"***REMOVED***:\n",
    "        \n",
    "        #it seems like the USCB data has last names listed in all caps, so we need to format them properly (only first letter capitalized)\n",
    "        name = name***REMOVED***0***REMOVED*** + name***REMOVED***-(len(name)-1):***REMOVED***.lower()\n",
    "        \n",
    "        names.append(name)\n",
    "    \n",
    "    #finding the total number of people who have the top 100 names for each gender\n",
    "    total_entries = loaded_data***REMOVED***\"FREQUENCY (COUNT)\"***REMOVED***.sum()\n",
    "    \n",
    "    #finding the probability of each name in name_data according to how many entries there are for that name\n",
    "    probabilities = generate_probabilities(loaded_data***REMOVED***\"FREQUENCY (COUNT)\"***REMOVED***)\n",
    "    \n",
    "    return names, probabilities\n",
    "    \n",
    "last_names, last_name_probabilities = load_last_names() #always needs to be done, but only needs to be done once for each run of this file"
   ***REMOVED***
  },
  {
   "cell_type": "markdown",
   "metadata": {},
   "source": ***REMOVED***
    "# Defining functions that generate the fake PHIs"
   ***REMOVED***
  },
  {
   "cell_type": "markdown",
   "metadata": {},
   "source": ***REMOVED***
    "### Defining a function that generates fake names\n",
    "\n",
    "This just takes the name and probability lists created by the load_first_names() and load_last_names() functions to generate a random name according to the given distributions. The function returns the name as a tuple: (last_name, first_name). "
   ***REMOVED***
  },
  {
   "cell_type": "code",
   "execution_count": 5,
   "metadata": {},
   "outputs": ***REMOVED******REMOVED***,
   "source": ***REMOVED***
    "def generate_fake_name(gender=None, FORMAT=None):    \n",
    "    \n",
    "    #loading first name data depending on the given gender\n",
    "    if gender == \"female\":\n",
    "        first_names = first_name_data***REMOVED***0***REMOVED******REMOVED***0***REMOVED***\n",
    "        first_name_probabilities = generate_probabilities(first_name_data***REMOVED***0***REMOVED******REMOVED***1***REMOVED***)\n",
    "    elif gender == \"male\":\n",
    "        first_names = first_name_data***REMOVED***1***REMOVED******REMOVED***0***REMOVED***\n",
    "        first_name_probabilities = generate_probabilities(first_name_data***REMOVED***1***REMOVED******REMOVED***1***REMOVED***)\n",
    "    else:\n",
    "        first_names = first_name_data***REMOVED***0***REMOVED******REMOVED***0***REMOVED*** + first_name_data***REMOVED***1***REMOVED******REMOVED***0***REMOVED***\n",
    "        first_name_probabilities = generate_probabilities(first_name_data***REMOVED***0***REMOVED******REMOVED***1***REMOVED*** + first_name_data***REMOVED***1***REMOVED******REMOVED***1***REMOVED***)\n",
    "    \n",
    "    #pick a random name from the list - np.choice does this according to a distribution of how common each name is, which should make the names more realistic\n",
    "    random_first_name = np.random.choice(first_names, 1, p=first_name_probabilities)***REMOVED***0***REMOVED***\n",
    "    \n",
    "    #pick a random middle name from the first names list\n",
    "    random_middle_name = np.random.choice(first_names, 1, p=first_name_probabilities)***REMOVED***0***REMOVED***\n",
    "    \n",
    "    #pick a random last name from the list - always independent of gender\n",
    "    random_last_name = np.random.choice(last_names, 1, p=last_name_probabilities)***REMOVED***0***REMOVED***\n",
    "    \n",
    "    #pick a name format depending on the given format (which only decides if a name is just first or last name)\n",
    "    if FORMAT != None:\n",
    "        if FORMAT == \"first\":\n",
    "            string = random_first_name\n",
    "        else:\n",
    "            string = random_last_name\n",
    "    else:\n",
    "        #randomly select a format for the first name (initial, full) - currently set to 10% chance of an initial\n",
    "        random_number = np.random.randint(0,100)\n",
    "\n",
    "        if random_number <= 10:\n",
    "            random_first_name = random_first_name***REMOVED***0***REMOVED*** + \".\"\n",
    "        \n",
    "        #randomly select a format for the middle_name (initial, none, full)\n",
    "        random_number = np.random.randint(0,100)\n",
    "\n",
    "        if random_number <= 30: #these values can be tuned to alter the probability of an initialed or no middle name\n",
    "            random_middle_name = random_middle_name***REMOVED***0***REMOVED*** + \".\"\n",
    "        elif random_number <= 40:\n",
    "            random_middle_name = \"\"\n",
    "        \n",
    "        #randomly select a format for the last name (initial, full)\n",
    "        random_number = np.random.randint(0,100)\n",
    "\n",
    "        if random_number <= 10:\n",
    "            random_last_name = random_last_name***REMOVED***0***REMOVED*** + \".\"\n",
    "        \n",
    "        #pick a random name format (first-middle-last, last-first-middle, first only)\n",
    "        random_number = np.random.randint(0,3)\n",
    "\n",
    "        if random_number == 0:\n",
    "            if random_middle_name != \"\":\n",
    "                string = random_first_name + \" \" + random_middle_name + \" \" + random_last_name\n",
    "            else:\n",
    "                string = random_first_name + \" \" + random_last_name\n",
    "        elif random_number == 1:\n",
    "            string = random_last_name + \", \" + random_first_name \n",
    "            if random_middle_name != \"\":\n",
    "                string += \" \" + random_middle_name\n",
    "        else:\n",
    "            string = random_first_name\n",
    "\n",
    "    return string #because np.random.choice outputs an array containing the names, this just returns the strings and not the arrays"
   ***REMOVED***
  },
  {
   "cell_type": "markdown",
   "metadata": {},
   "source": ***REMOVED***
    "## Defining a function that generates random numbers between given values or of given length\n",
    "\n",
    "This is to make creating things such as ages, identification numbers, etc. easier and less repetitive. This isn't a terribly complicated function; the only real computation required is to allow a length rather than a given minimum and maximum to be given (which is something that will not happen particularly often, but just in case)."
   ***REMOVED***
  },
  {
   "cell_type": "code",
   "execution_count": 6,
   "metadata": {},
   "outputs": ***REMOVED******REMOVED***,
   "source": ***REMOVED***
    "def generate_number(minmax=None, length=None):\n",
    "    if length == None and minmax == None:\n",
    "        raise ValueError(\"requested number generator but gave no data about what kind of number to generate\")\n",
    "    \n",
    "    if length != None and minmax == None:\n",
    "        minmax = ***REMOVED***0, 0***REMOVED***\n",
    "        minmax***REMOVED***0***REMOVED*** = 1 * (10**(length-1))\n",
    "        minmax***REMOVED***1***REMOVED*** = 1 * (10**length)\n",
    "    \n",
    "    return random.randint(minmax***REMOVED***0***REMOVED***, minmax***REMOVED***1***REMOVED***) #random's random generator is being used here as opposed to numpy's because numpy has issues with generating larger numbers (because of the fact that it can only generate int64 and uint64 integers)"
   ***REMOVED***
  },
  {
   "cell_type": "markdown",
   "metadata": {},
   "source": ***REMOVED***
    "## Defining a function that generates fake ages (over 90)\n",
    "\n",
    "All ages under 90 are considered common enough such that they don't need obscuring, but those over 90 will be obscured. Therefore, in order to assist with hiding-in-plain-sight, fake ages (over 90, of course) must be generated."
   ***REMOVED***
  },
  {
   "cell_type": "code",
   "execution_count": 7,
   "metadata": {},
   "outputs": ***REMOVED******REMOVED***,
   "source": ***REMOVED***
    "def generate_fake_age(age_min=90, age_max=116):  #a quick google search revealed that the oldest verified human age was 116, and all ages under 90 are not obscured\n",
    "    age_number = generate_number(minmax=***REMOVED***age_min, age_max***REMOVED***)\n",
    "    \n",
    "    age = age_number #this line is only used to make transitioning to the scripts that add words to the ages more simple\n",
    "    \n",
    "    return str(age)"
   ***REMOVED***
  },
  {
   "cell_type": "markdown",
   "metadata": {},
   "source": ***REMOVED***
    "## Defining a function that generates numeric identifiers\n",
    "\n",
    "These, for the most part, are numbers used by a specific organization to identify certain people (mostly patients). Since we don't know the format or rules regarding these numeric identifiers, we will simply generate a random number of random length."
   ***REMOVED***
  },
  {
   "cell_type": "code",
   "execution_count": 8,
   "metadata": {},
   "outputs": ***REMOVED******REMOVED***,
   "source": ***REMOVED***
    "def generate_fake_numeric_identifier():\n",
    "    length = random.randint(1, 100)\n",
    "    return generate_number(length=length)"
   ***REMOVED***
  },
  {
   "cell_type": "code",
   "execution_count": 81,
   "metadata": {},
   "outputs": ***REMOVED******REMOVED***,
   "source": ***REMOVED***
    "def generate_fake_provider_number():\n",
    "    return generate_number(length=10)"
   ***REMOVED***
  },
  {
   "cell_type": "code",
   "execution_count": null,
   "metadata": {},
   "outputs": ***REMOVED******REMOVED***,
   "source": ***REMOVED***
    "def generate_fake_md_number():\n",
    "    return generate_number(length=6)"
   ***REMOVED***
  },
  {
   "cell_type": "code",
   "execution_count": null,
   "metadata": {},
   "outputs": ***REMOVED******REMOVED***,
   "source": ***REMOVED***
    "def generate_fake_job_number():\n",
    "    length = random.randint(1, 6)\n",
    "    return generate_number(length=length)"
   ***REMOVED***
  },
  {
   "cell_type": "code",
   "execution_count": null,
   "metadata": {},
   "outputs": ***REMOVED******REMOVED***,
   "source": ***REMOVED***
    "def generate_fake_radiology_clip_number():\n",
    "    conversion_list = ***REMOVED***0, 1, 2, 3, 4, 5, 6, 7, 8, 9, \"A\", \"B\", \"C\", \"D\", \"E\", \"F\"***REMOVED***\n",
    "    base_number = generate_number(0, 255)\n",
    "    if random.randint(0, 4) > 3:\n",
    "        temp_number = base_number\n",
    "        while temp_number != 0:\n",
    "            temp_number = temp_number % 16 \n",
    "        divided = base_number/16\n",
    "    return generate_number(minmax=(1, 20))"
   ***REMOVED***
  },
  {
   "cell_type": "code",
   "execution_count": 80,
   "metadata": {},
   "outputs": ***REMOVED******REMOVED***,
   "source": ***REMOVED***
    "def generate_fake_email_address():\n",
    "    first_name = generate_fake_name(FORMAT=\"first\").lower()\n",
    "    last_name = generate_fake_name(FORMAT=\"last\").lower()\n",
    "    domains = ***REMOVED***\"@gmail.com\", \"@yahoo.com\", \"@hotmail.com\"***REMOVED***\n",
    "    domain = domains***REMOVED***generate_number(minmax=***REMOVED***0, len(domains) + 1***REMOVED***)***REMOVED***\n",
    "    \n",
    "    return first_name + last_name + domain"
   ***REMOVED***
  },
  {
   "cell_type": "markdown",
   "metadata": {},
   "source": ***REMOVED***
    "## Defining a function that calls the generative functions situationally\n",
    "\n",
    "This will serve as a \"hub\", calling the corresponding generator function depending on what kind of PHI the main file calls for it to generate."
   ***REMOVED***
  },
  {
   "cell_type": "code",
   "execution_count": 82,
   "metadata": {},
   "outputs": ***REMOVED******REMOVED***,
   "source": ***REMOVED***
    "def generator(PHI_type, PHI_subtype, modifiers, PHI_text):\n",
    "    \n",
    "    generated_PHI = None\n",
    "    \n",
    "    if PHI_type == \"name\":\n",
    "        generated_PHI = generate_fake_name(modifiers***REMOVED***\"gender\"***REMOVED***, modifiers***REMOVED***\"format\"***REMOVED***)\n",
    "    elif PHI_type == \"ID\":\n",
    "        if PHI_subtype == \"numeric_identifier\":\n",
    "            generated_PHI = generate_fake_numeric_identifier()\n",
    "        elif PHI_subtype == \"social_security_number\":\n",
    "            pass\n",
    "        elif PHI_subtype == \"provider_number\":\n",
    "            generated_PHI = generate_fake_provider_number()\n",
    "        elif PHI_subtype == \"md_number\":\n",
    "            generated_PHI = generate_fake_md_number()\n",
    "        elif PHI_subtype == \"job_number\":\n",
    "            generated_PHI = generate_fake_job_number()\n",
    "        elif PHI_subtype == \"clip_number\":\n",
    "            pass\n",
    "    elif PHI_type == \"age\":\n",
    "        generated_PHI = generate_fake_age()\n",
    "    elif PHI_type == \"contact\":\n",
    "        if PHI_subtype == \"email_address\":\n",
    "            generated_PHI = generate_fake_email_address()\n",
    "    else: #just for now, as not all generators have been created\n",
    "        generated_PHI = \"***REMOVED***** \" + PHI_text + \" *****REMOVED***\"\n",
    "    \n",
    "    if generated_PHI == None:\n",
    "        generated_PHI = \"***REMOVED*****\" + PHI_text + \" *****REMOVED***\"\n",
    "    \n",
    "    return generated_PHI"
   ***REMOVED***
  }
 ***REMOVED***,
 "metadata": {
  "kernelspec": {
   "display_name": "Python 3",
   "language": "python",
   "name": "python3"
  },
  "language_info": {
   "codemirror_mode": {
    "name": "ipython",
    "version": 3
   },
   "file_extension": ".py",
   "mimetype": "text/x-python",
   "name": "python",
   "nbconvert_exporter": "python",
   "pygments_lexer": "ipython3",
   "version": "3.8.2"
  }
 },
 "nbformat": 4,
 "nbformat_minor": 4
}
