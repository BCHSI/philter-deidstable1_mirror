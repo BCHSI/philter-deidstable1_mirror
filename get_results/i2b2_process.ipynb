{
 "cells": [
  {
   "cell_type": "code",
   "execution_count": 3,
   "metadata": {},
   "outputs": [
    {
     "ename": "SyntaxError",
     "evalue": "invalid syntax (<ipython-input-3-50d044f6c85b>, line 2)",
     "output_type": "error",
     "traceback": [
      "\u001b[0;36m  File \u001b[0;32m\"<ipython-input-3-50d044f6c85b>\"\u001b[0;36m, line \u001b[0;32m2\u001b[0m\n\u001b[0;31m    philter -i ../data/i2b2_notes -o ../data/i2b2_results -r -p 32\u001b[0m\n\u001b[0m                ^\u001b[0m\n\u001b[0;31mSyntaxError\u001b[0m\u001b[0;31m:\u001b[0m invalid syntax\n"
     ]
    }
   ],
   "source": [
    "# Run downloaded and installed philter script on i2b2 dataset\n",
    "philter -i ../data/i2b2_notes -o ../data/i2b2_results -r -p 32"
   ]
  },
  {
   "cell_type": "code",
   "execution_count": null,
   "metadata": {},
   "outputs": [],
   "source": [
    "# Run evaluation script on de-identified i2b2 notes\n",
    "python3 ../eval-i2b2.py -p ../data/i2b2_results -a ../generate_dataset/testing-PHI-Gold-fixed -o ../data/i2b2_eval\n",
    "\n"
   ]
  },
  {
   "cell_type": "code",
   "execution_count": null,
   "metadata": {},
   "outputs": [],
   "source": [
    "# Run whitelist-only philter on i2b2 dataset\n",
    "python3 ../philter_whitelist.py -i ../data/i2b2_notes --o ../data/i2b2_whitelist_results/ -r -p 32\n",
    "\n"
   ]
  },
  {
   "cell_type": "code",
   "execution_count": null,
   "metadata": {},
   "outputs": [],
   "source": [
    "# Run evaluation script on whitelist-only de-identified i2b2 notes\n",
    "python3 ../eval-i2b2.py -p ../data/i2b2_whitelists_results -a ../generate_dataset/testing-PHI-Gold-fixed -o ../data/i2b2_whitelist_eval\n",
    "\n"
   ]
  },
  {
   "cell_type": "code",
   "execution_count": null,
   "metadata": {},
   "outputs": [],
   "source": [
    "# Run whitelist+regex-only philter on i2b2 dataset\n",
    "python3 ../philter_whitelist_regex.py -i ../data/i2b2_notes --o ../data/i2b2_whitelist_regex_results/ -r -p 32\n",
    "\n"
   ]
  },
  {
   "cell_type": "code",
   "execution_count": null,
   "metadata": {},
   "outputs": [],
   "source": [
    "# Run evaluation script on whitelist+regex-only de-identified i2b2 notes\n",
    "python3 ../eval-i2b2.py -p ../data/i2b2_whitelist_regex_results -a ../generate_dataset/testing-PHI-Gold-fixed -o ../data/i2b2_whitelist_regex_eval\n",
    "\n"
   ]
  }
 ],
 "metadata": {
  "kernelspec": {
   "display_name": "Python 3",
   "language": "python",
   "name": "python3"
  },
  "language_info": {
   "codemirror_mode": {
    "name": "ipython",
    "version": 3
   },
   "file_extension": ".py",
   "mimetype": "text/x-python",
   "name": "python",
   "nbconvert_exporter": "python",
   "pygments_lexer": "ipython3",
   "version": "3.6.4"
  }
 },
 "nbformat": 4,
 "nbformat_minor": 2
}
