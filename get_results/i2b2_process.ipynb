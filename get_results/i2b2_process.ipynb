{
 "cells": [
  {
   "cell_type": "code",
   "execution_count": null,
   "metadata": {},
   "outputs": [
    {
     "name": "stdout",
     "output_type": "stream",
     "text": [
      "input folder: ../old_philter_files/inputs/i2b2_notes\n",
      "recursive?: False\n",
      "output folder: ../old_philter_files/outputs/i2b2_results\n",
      "Using whitelist: ../whitelist.pkl\n",
      "length of whitelist: 290052\n",
      "phi_reduced file's name would be: *_phi_reduced.txt\n",
      "run in 1 process(es)\n",
      "Multithreaded mode OFF\n",
      "137-03.txt\n",
      "1 ../old_philter_files/inputs/i2b2_notes/137-03.txt --- 12.74704885482788 seconds ---\n",
      "380-03.txt\n",
      "1 ../old_philter_files/inputs/i2b2_notes/380-03.txt --- 13.203924179077148 seconds ---\n",
      "162-02.txt\n",
      "1 ../old_philter_files/inputs/i2b2_notes/162-02.txt --- 3.328082323074341 seconds ---\n",
      "193-04.txt\n",
      "1 ../old_philter_files/inputs/i2b2_notes/193-04.txt --- 4.879888296127319 seconds ---\n",
      "371-05.txt\n",
      "1 ../old_philter_files/inputs/i2b2_notes/371-05.txt --- 13.813645839691162 seconds ---\n",
      "349-01.txt\n",
      "1 ../old_philter_files/inputs/i2b2_notes/349-01.txt --- 16.895238876342773 seconds ---\n",
      "347-04.txt\n",
      "bifurcation...no\n",
      "1 ../old_philter_files/inputs/i2b2_notes/347-04.txt --- 11.602735042572021 seconds ---\n",
      "234-01.txt\n",
      "1 ../old_philter_files/inputs/i2b2_notes/234-01.txt --- 9.157821893692017 seconds ---\n",
      "345-01.txt\n",
      "1 ../old_philter_files/inputs/i2b2_notes/345-01.txt --- 7.502485036849976 seconds ---\n",
      "236-04.txt\n",
      "1 ../old_philter_files/inputs/i2b2_notes/236-04.txt --- 6.182969093322754 seconds ---\n",
      "238-01.txt\n",
      "1 ../old_philter_files/inputs/i2b2_notes/238-01.txt --- 8.832148790359497 seconds ---\n",
      "263-05.txt\n",
      "1 ../old_philter_files/inputs/i2b2_notes/263-05.txt --- 2.8421947956085205 seconds ---\n",
      "113-02.txt\n",
      "1 ../old_philter_files/inputs/i2b2_notes/113-02.txt --- 12.65038514137268 seconds ---\n",
      "191-01.txt\n",
      "1 ../old_philter_files/inputs/i2b2_notes/191-01.txt --- 11.370208978652954 seconds ---\n",
      "373-01.txt\n",
      "1 ../old_philter_files/inputs/i2b2_notes/373-01.txt --- 8.972347259521484 seconds ---\n",
      "113-03.txt\n",
      "1 ../old_philter_files/inputs/i2b2_notes/113-03.txt --- 10.971510171890259 seconds ---\n",
      "200-04.txt\n",
      "4.0x3.5x0.8\n",
      "1 ../old_philter_files/inputs/i2b2_notes/200-04.txt --- 11.22437596321106 seconds ---\n",
      "263-04.txt\n",
      "1 ../old_philter_files/inputs/i2b2_notes/263-04.txt --- 5.126172065734863 seconds ---\n",
      "236-05.txt\n",
      "1 ../old_philter_files/inputs/i2b2_notes/236-05.txt --- 6.82474422454834 seconds ---\n",
      "210-01.txt\n",
      "1 ../old_philter_files/inputs/i2b2_notes/210-01.txt --- 7.21470308303833 seconds ---\n",
      "310-01.txt\n",
      "1 ../old_philter_files/inputs/i2b2_notes/310-01.txt --- 3.18058705329895 seconds ---\n",
      "312-04.txt\n",
      "1 ../old_philter_files/inputs/i2b2_notes/312-04.txt --- 12.927550077438354 seconds ---\n",
      "371-04.txt\n",
      "1 ../old_philter_files/inputs/i2b2_notes/371-04.txt --- 15.378536939620972 seconds ---\n",
      "193-05.txt\n",
      "1 ../old_philter_files/inputs/i2b2_notes/193-05.txt --- 18.931397199630737 seconds ---\n",
      "162-03.txt\n",
      "1 ../old_philter_files/inputs/i2b2_notes/162-03.txt --- 4.587507963180542 seconds ---\n",
      "137-02.txt\n"
     ]
    }
   ],
   "source": [
    "# Run downloaded and installed philter script on i2b2 dataset\n",
    "!python3 ../philter_2.0.py -i ../old_philter_files/inputs/i2b2_notes -o ../old_philter_files/outputs/i2b2_results -m False"
   ]
  },
  {
   "cell_type": "code",
   "execution_count": 1,
   "metadata": {},
   "outputs": [
    {
     "name": "stdout",
     "output_type": "stream",
     "text": [
      "0 out of 1030 phi reduced notes have been compared.\r\n",
      "1030 files have not found corresponding annotation as below.\r\n",
      "0 notes have been evaulated.\r\n",
      "True Positive in all notes: 0\r\n",
      "False Positive in all notes: 0\r\n",
      "False Negative in all notes: 0\r\n",
      "Recall: N/A\r\n",
      "Precision: N/A\r\n",
      "\r\n"
     ]
    }
   ],
   "source": [
    "# Run evaluation script on de-identified i2b2 notes\n",
    "!python3 eval-i2b2.py -p ../old_philter_files/outputs/i2b2_results -a ../old_philter_files/inputs/i2b2_anno/ -o ../old_philter_files/outputs/i2b2_eval\n"
   ]
  },
  {
   "cell_type": "code",
   "execution_count": null,
   "metadata": {},
   "outputs": [],
   "source": [
    "# Run whitelist-only philter on i2b2 dataset\n",
    "!python3 ../philter_whitelist.py -i ../data/i2b2_notes -o ../data/i2b2_whitelist_results/ -r -p 32\n",
    "\n"
   ]
  },
  {
   "cell_type": "code",
   "execution_count": null,
   "metadata": {},
   "outputs": [],
   "source": [
    "# Run evaluation script on whitelist-only de-identified i2b2 notes\n",
    "!python3 ../eval-i2b2.py -p ../data/i2b2_whitelists_results -a ../generate_dataset/testing-PHI-Gold-fixed -o ../data/i2b2_whitelist_eval\n",
    "\n"
   ]
  },
  {
   "cell_type": "code",
   "execution_count": null,
   "metadata": {},
   "outputs": [],
   "source": [
    "# Run whitelist+regex-only philter on i2b2 dataset\n",
    "!python3 ../philter_whitelist_regex.py -i ../data/i2b2_notes -o ../data/i2b2_whitelist_regex_results/ -r -p 32\n",
    "\n"
   ]
  },
  {
   "cell_type": "code",
   "execution_count": null,
   "metadata": {},
   "outputs": [],
   "source": [
    "# Run evaluation script on whitelist+regex-only de-identified i2b2 notes\n",
    "!python3 ../eval-i2b2.py -p ../data/i2b2_whitelist_regex_results -a ../generate_dataset/testing-PHI-Gold-fixed -o ../data/i2b2_whitelist_regex_eval\n",
    "\n"
   ]
  }
 ],
 "metadata": {
  "kernelspec": {
   "display_name": "Python 3",
   "language": "python",
   "name": "python3"
  },
  "language_info": {
   "codemirror_mode": {
    "name": "ipython",
    "version": 3
   },
   "file_extension": ".py",
   "mimetype": "text/x-python",
   "name": "python",
   "nbconvert_exporter": "python",
   "pygments_lexer": "ipython3",
   "version": "3.6.4"
  }
 },
 "nbformat": 4,
 "nbformat_minor": 2
}
